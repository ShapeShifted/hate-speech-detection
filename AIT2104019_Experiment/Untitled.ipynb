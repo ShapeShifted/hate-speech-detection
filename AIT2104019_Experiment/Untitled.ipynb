{
 "cells": [
  {
   "cell_type": "code",
   "execution_count": null,
   "id": "1337b7a2",
   "metadata": {},
   "outputs": [],
   "source": [
    "# %load UI.py\n",
    "import tkinter as tk\n",
    "from preprocess import preprocess\n",
    "from prediction import prediction\n",
    "\n",
    "# Function to display the input string\n",
    "def show_output():\n",
    "    input_string = entry.get()\n",
    "    preprocessed_input_string = preprocess(input_string)\n",
    "    hate_speech_value = prediction(preprocessed_input_string)\n",
    "    if (hate_speech_value==1):\n",
    "        result = 'hate speech'\n",
    "    else:\n",
    "        result = 'not hate speech'\n",
    "    output_label.config(text=f\"This message is {result}.\")\n",
    "\n",
    "# Create the main window\n",
    "root = tk.Tk()\n",
    "root.title(\"Message Detection System\")\n",
    "\n",
    "# Create and place the input label\n",
    "label = tk.Label(root, text=\"Submit any message:\")\n",
    "label.pack(pady=10)\n",
    "\n",
    "# Create and place the entry widget\n",
    "entry = tk.Entry(root, width=50)\n",
    "entry.pack(pady=10)\n",
    "\n",
    "# Create and place the submit button\n",
    "button = tk.Button(root, text=\"Submit\", command=show_output)\n",
    "button.pack(pady=10)\n",
    "\n",
    "# Create and place the output label\n",
    "output_label = tk.Label(root, text=\"\")\n",
    "output_label.pack(pady=10)\n",
    "\n",
    "# Run the Tkinter event loop\n",
    "root.mainloop()\n"
   ]
  },
  {
   "cell_type": "code",
   "execution_count": null,
   "id": "ce9e4b9a",
   "metadata": {
    "scrolled": true
   },
   "outputs": [
    {
     "name": "stderr",
     "output_type": "stream",
     "text": [
      "Exception in Tkinter callback\n",
      "Traceback (most recent call last):\n",
      "  File \"C:\\ProgramData\\Anaconda3\\lib\\tkinter\\__init__.py\", line 1892, in __call__\n",
      "    return self.func(*args)\n",
      "  File \"C:\\Users\\qing5\\Documents\\Documents\\JupyterScripts\\Thesis\\AIT2104019_Experiment\\UI.py\", line 9, in show_output\n",
      "    hate_speech_value = prediction(preprocessed_input_string)\n",
      "  File \"C:\\Users\\qing5\\Documents\\Documents\\JupyterScripts\\Thesis\\AIT2104019_Experiment\\prediction.py\", line 47, in prediction\n",
      "    input = tokenization(input)\n",
      "  File \"C:\\Users\\qing5\\Documents\\Documents\\JupyterScripts\\Thesis\\AIT2104019_Experiment\\prediction.py\", line 33, in tokenization\n",
      "    loaded_tokenizer = pickle.load(tokenizer_path)\n",
      "  File \"C:\\Users\\qing5\\AppData\\Roaming\\Python\\Python39\\site-packages\\keras\\src\\__init__.py\", line 1, in <module>\n",
      "    from keras.src import activations\n",
      "  File \"C:\\Users\\qing5\\AppData\\Roaming\\Python\\Python39\\site-packages\\keras\\src\\activations\\__init__.py\", line 3, in <module>\n",
      "    from keras.src.activations.activations import celu\n",
      "  File \"C:\\Users\\qing5\\AppData\\Roaming\\Python\\Python39\\site-packages\\keras\\src\\activations\\activations.py\", line 1, in <module>\n",
      "    from keras.src import backend\n",
      "  File \"C:\\Users\\qing5\\AppData\\Roaming\\Python\\Python39\\site-packages\\keras\\src\\backend\\__init__.py\", line 10, in <module>\n",
      "    from keras.src.backend.common.dtypes import result_type\n",
      "  File \"C:\\Users\\qing5\\AppData\\Roaming\\Python\\Python39\\site-packages\\keras\\src\\backend\\common\\__init__.py\", line 2, in <module>\n",
      "    from keras.src.backend.common.dtypes import result_type\n",
      "  File \"C:\\Users\\qing5\\AppData\\Roaming\\Python\\Python39\\site-packages\\keras\\src\\backend\\common\\dtypes.py\", line 5, in <module>\n",
      "    from keras.src.backend.common.variables import standardize_dtype\n",
      "  File \"C:\\Users\\qing5\\AppData\\Roaming\\Python\\Python39\\site-packages\\keras\\src\\backend\\common\\variables.py\", line 12, in <module>\n",
      "    from keras.src.utils.naming import auto_name\n",
      "  File \"C:\\Users\\qing5\\AppData\\Roaming\\Python\\Python39\\site-packages\\keras\\src\\utils\\__init__.py\", line 1, in <module>\n",
      "    from keras.src.utils.audio_dataset_utils import audio_dataset_from_directory\n",
      "  File \"C:\\Users\\qing5\\AppData\\Roaming\\Python\\Python39\\site-packages\\keras\\src\\utils\\audio_dataset_utils.py\", line 4, in <module>\n",
      "    from keras.src.utils import dataset_utils\n",
      "  File \"C:\\Users\\qing5\\AppData\\Roaming\\Python\\Python39\\site-packages\\keras\\src\\utils\\dataset_utils.py\", line 9, in <module>\n",
      "    from keras.src import tree\n",
      "  File \"C:\\Users\\qing5\\AppData\\Roaming\\Python\\Python39\\site-packages\\keras\\src\\tree\\__init__.py\", line 1, in <module>\n",
      "    from keras.src.tree.tree_api import assert_same_paths\n",
      "  File \"C:\\Users\\qing5\\AppData\\Roaming\\Python\\Python39\\site-packages\\keras\\src\\tree\\tree_api.py\", line 12, in <module>\n",
      "    raise ImportError(\n",
      "ImportError: To use Keras, you need to have `optree` installed. Install it via `pip install optree`\n"
     ]
    }
   ],
   "source": [
    "%run UI.py"
   ]
  },
  {
   "cell_type": "code",
   "execution_count": 1,
   "id": "593dc616",
   "metadata": {},
   "outputs": [
    {
     "name": "stdout",
     "output_type": "stream",
     "text": [
      "0.16.0\n",
      "3.10.0\n"
     ]
    }
   ],
   "source": [
    "import optree\n",
    "import keras\n",
    "print(optree.__version__)\n",
    "print(keras.__version__)"
   ]
  },
  {
   "cell_type": "code",
   "execution_count": 11,
   "id": "bfe618c7",
   "metadata": {},
   "outputs": [
    {
     "name": "stdout",
     "output_type": "stream",
     "text": [
      "C:\\ProgramData\\Anaconda3\\python.exe\n"
     ]
    }
   ],
   "source": [
    "import sys\n",
    "print(sys.executable)"
   ]
  },
  {
   "cell_type": "code",
   "execution_count": 1,
   "id": "58fcfc38",
   "metadata": {},
   "outputs": [
    {
     "name": "stdout",
     "output_type": "stream",
     "text": [
      "3.9.19 (main, Mar 21 2024, 17:21:27) [MSC v.1916 64 bit (AMD64)]\n"
     ]
    }
   ],
   "source": [
    "import sys\n",
    "print(sys.version)"
   ]
  },
  {
   "cell_type": "code",
   "execution_count": 10,
   "id": "7b40dd03",
   "metadata": {},
   "outputs": [
    {
     "ename": "ImportError",
     "evalue": "cannot import name 'ModelMetaclass' from 'pydantic.main' (C:\\Users\\qing5\\AppData\\Roaming\\Python\\Python39\\site-packages\\pydantic\\main.py)",
     "output_type": "error",
     "traceback": [
      "\u001b[1;31m---------------------------------------------------------------------------\u001b[0m",
      "\u001b[1;31mImportError\u001b[0m                               Traceback (most recent call last)",
      "Cell \u001b[1;32mIn[10], line 1\u001b[0m\n\u001b[1;32m----> 1\u001b[0m \u001b[38;5;28;01mimport\u001b[39;00m\u001b[38;5;250m \u001b[39m\u001b[38;5;21;01mthinc\u001b[39;00m\n",
      "File \u001b[1;32m~\\AppData\\Roaming\\Python\\Python39\\site-packages\\thinc\\__init__.py:5\u001b[0m\n\u001b[0;32m      2\u001b[0m \u001b[38;5;28;01mimport\u001b[39;00m\u001b[38;5;250m \u001b[39m\u001b[38;5;21;01mnumpy\u001b[39;00m\n\u001b[0;32m      4\u001b[0m \u001b[38;5;28;01mfrom\u001b[39;00m\u001b[38;5;250m \u001b[39m\u001b[38;5;21;01m.\u001b[39;00m\u001b[38;5;21;01mabout\u001b[39;00m\u001b[38;5;250m \u001b[39m\u001b[38;5;28;01mimport\u001b[39;00m __version__\n\u001b[1;32m----> 5\u001b[0m \u001b[38;5;28;01mfrom\u001b[39;00m\u001b[38;5;250m \u001b[39m\u001b[38;5;21;01m.\u001b[39;00m\u001b[38;5;21;01mconfig\u001b[39;00m\u001b[38;5;250m \u001b[39m\u001b[38;5;28;01mimport\u001b[39;00m registry\n",
      "File \u001b[1;32m~\\AppData\\Roaming\\Python\\Python39\\site-packages\\thinc\\config.py:11\u001b[0m\n\u001b[0;32m      9\u001b[0m \u001b[38;5;28;01mfrom\u001b[39;00m\u001b[38;5;250m \u001b[39m\u001b[38;5;21;01mpathlib\u001b[39;00m\u001b[38;5;250m \u001b[39m\u001b[38;5;28;01mimport\u001b[39;00m Path\n\u001b[0;32m     10\u001b[0m \u001b[38;5;28;01mfrom\u001b[39;00m\u001b[38;5;250m \u001b[39m\u001b[38;5;21;01mpydantic\u001b[39;00m\u001b[38;5;250m \u001b[39m\u001b[38;5;28;01mimport\u001b[39;00m BaseModel, create_model, ValidationError, Extra\n\u001b[1;32m---> 11\u001b[0m \u001b[38;5;28;01mfrom\u001b[39;00m\u001b[38;5;250m \u001b[39m\u001b[38;5;21;01mpydantic\u001b[39;00m\u001b[38;5;21;01m.\u001b[39;00m\u001b[38;5;21;01mmain\u001b[39;00m\u001b[38;5;250m \u001b[39m\u001b[38;5;28;01mimport\u001b[39;00m ModelMetaclass\n\u001b[0;32m     12\u001b[0m \u001b[38;5;28;01mfrom\u001b[39;00m\u001b[38;5;250m \u001b[39m\u001b[38;5;21;01mpydantic\u001b[39;00m\u001b[38;5;21;01m.\u001b[39;00m\u001b[38;5;21;01mfields\u001b[39;00m\u001b[38;5;250m \u001b[39m\u001b[38;5;28;01mimport\u001b[39;00m ModelField\n\u001b[0;32m     13\u001b[0m \u001b[38;5;28;01mfrom\u001b[39;00m\u001b[38;5;250m \u001b[39m\u001b[38;5;21;01mwasabi\u001b[39;00m\u001b[38;5;250m \u001b[39m\u001b[38;5;28;01mimport\u001b[39;00m table\n",
      "\u001b[1;31mImportError\u001b[0m: cannot import name 'ModelMetaclass' from 'pydantic.main' (C:\\Users\\qing5\\AppData\\Roaming\\Python\\Python39\\site-packages\\pydantic\\main.py)"
     ]
    }
   ],
   "source": [
    "import thinc"
   ]
  },
  {
   "cell_type": "code",
   "execution_count": null,
   "id": "2ea908dd",
   "metadata": {},
   "outputs": [],
   "source": []
  }
 ],
 "metadata": {
  "kernelspec": {
   "display_name": "Python 3 (ipykernel)",
   "language": "python",
   "name": "python3"
  },
  "language_info": {
   "codemirror_mode": {
    "name": "ipython",
    "version": 3
   },
   "file_extension": ".py",
   "mimetype": "text/x-python",
   "name": "python",
   "nbconvert_exporter": "python",
   "pygments_lexer": "ipython3",
   "version": "3.9.19"
  }
 },
 "nbformat": 4,
 "nbformat_minor": 5
}
